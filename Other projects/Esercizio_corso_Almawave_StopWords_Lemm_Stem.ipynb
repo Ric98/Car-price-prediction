{
  "nbformat": 4,
  "nbformat_minor": 0,
  "metadata": {
    "colab": {
      "provenance": []
    },
    "kernelspec": {
      "name": "python3",
      "display_name": "Python 3"
    },
    "language_info": {
      "name": "python"
    }
  },
  "cells": [
    {
      "cell_type": "markdown",
      "source": [
        "# **Esercizio StopWords - Stem/Lem**#"
      ],
      "metadata": {
        "id": "aDulo1otWYmq"
      }
    },
    {
      "cell_type": "markdown",
      "source": [
        "#Esercizio StopWords#"
      ],
      "metadata": {
        "id": "8bvtb0OwL4MW"
      }
    },
    {
      "cell_type": "code",
      "source": [
        "import nltk as nltk\n",
        "import string\n",
        "import spacy\n",
        "import re\n",
        "from spacy.lang.it.stop_words import STOP_WORDS\n",
        "from spacy.lang.it.examples import sentences\n",
        "import spacy\n",
        "from spacy.lang.it.examples import sentences \n",
        "\n",
        "\n",
        "!python -m spacy download it\n",
        "nlp = spacy.load(\"it_core_news_sm\")"
      ],
      "metadata": {
        "id": "Cr2qo_1FVch_"
      },
      "execution_count": null,
      "outputs": []
    },
    {
      "cell_type": "code",
      "source": [
        "text = \" L'affare tra la Roma e il Galatasaray è arrivato alle battute finali: il club giallorosso ha autorizzato il giocatore a partire per la Turchia, in attesa di sistemare gli ultimissimi dettagli. Per Zaniolo pronto un quadriennale a 3,5 milioni netti a stagione, con una clausola rescissoria da 35 milioni. Nicolò Zaniolo al Galatasaray, adesso ci siamo: la Roma ha autorizzato il giocatore a raggiungere Istanbul, dando il via libera alla partenza in attesa di definire gli ultimissimi dettagli. Così, dopo i contatti avviati da giorni tra la Roma e il club turco, l'affare sembra essere arrivato a una conclusione. Nonostante il terremoto che ha devastato la parte del confine tra Turchia e Siria abbia rallentato la trattativa, le parti sono rimaste in contatto anche nella notte tra lunedì e martedì per giungere a un'intesa totale: sono state sistemate le questioni contrattuali e nel pomeriggio di oggi, martedì 7 febbraio, la Roma ha dato il via libera alla partenza di Zaniolo per la Turchia. Il Galatasaray ha battuto la concorrenza offrendo 15 milioni più 7 di bonus, mentre la Roma contava di strappare 23 milioni in più dopo l'inserimento del Fenerbahce. Per Zaniolo è pronto un quadriennale a 3,5 milioni netti più bonus, con una clausola rescissoria di 35 milioni che lo rende appetibile sul mercato.\""
      ],
      "metadata": {
        "id": "7f31Od5ZO9YS"
      },
      "execution_count": 26,
      "outputs": []
    },
    {
      "cell_type": "code",
      "source": [
        "text_filt = text.translate(str.maketrans('', '', string.punctuation))\n",
        "\n",
        "print(type(text_filt))"
      ],
      "metadata": {
        "id": "RHwPwCELUOLT",
        "colab": {
          "base_uri": "https://localhost:8080/"
        },
        "outputId": "60fa9d9a-ca17-40aa-8e36-aa4759b1e33f"
      },
      "execution_count": 27,
      "outputs": [
        {
          "output_type": "stream",
          "name": "stdout",
          "text": [
            "<class 'str'>\n"
          ]
        }
      ]
    },
    {
      "cell_type": "markdown",
      "source": [
        "# Stampa le StopWords contenute nel testo"
      ],
      "metadata": {
        "id": "SFOELFVXVrH6"
      }
    },
    {
      "cell_type": "code",
      "source": [
        "document = nlp(text)\n",
        "\n",
        "for token in document:\n",
        "  if token.is_stop:\n",
        "    print(token)"
      ],
      "metadata": {
        "id": "NLZ12bk3RVJv",
        "colab": {
          "base_uri": "https://localhost:8080/"
        },
        "outputId": "5cf70beb-2d13-4c86-8092-f1bdd51baabb"
      },
      "execution_count": 28,
      "outputs": [
        {
          "output_type": "stream",
          "name": "stdout",
          "text": [
            "L'\n",
            "tra\n",
            "la\n",
            "e\n",
            "il\n",
            "è\n",
            "alle\n",
            "il\n",
            "ha\n",
            "il\n",
            "a\n",
            "per\n",
            "la\n",
            "in\n",
            "attesa\n",
            "di\n",
            "gli\n",
            "Per\n",
            "un\n",
            "a\n",
            "milioni\n",
            "a\n",
            "con\n",
            "una\n",
            "da\n",
            "milioni\n",
            "al\n",
            "adesso\n",
            "ci\n",
            "siamo\n",
            "la\n",
            "ha\n",
            "il\n",
            "a\n",
            "il\n",
            "via\n",
            "alla\n",
            "in\n",
            "attesa\n",
            "di\n",
            "gli\n",
            "Così\n",
            "dopo\n",
            "da\n",
            "giorni\n",
            "tra\n",
            "la\n",
            "e\n",
            "il\n",
            "l'\n",
            "sembra\n",
            "essere\n",
            "a\n",
            "una\n",
            "conclusione\n",
            "Nonostante\n",
            "il\n",
            "che\n",
            "ha\n",
            "la\n",
            "parte\n",
            "del\n",
            "tra\n",
            "e\n",
            "abbia\n",
            "la\n",
            "le\n",
            "sono\n",
            "in\n",
            "anche\n",
            "nella\n",
            "tra\n",
            "e\n",
            "per\n",
            "a\n",
            "un'\n",
            "sono\n",
            "state\n",
            "le\n",
            "e\n",
            "nel\n",
            "di\n",
            "oggi\n",
            "la\n",
            "ha\n",
            "il\n",
            "via\n",
            "alla\n",
            "di\n",
            "per\n",
            "la\n",
            "Il\n",
            "ha\n",
            "la\n",
            "milioni\n",
            "più\n",
            "di\n",
            "mentre\n",
            "la\n",
            "di\n",
            "milioni\n",
            "in\n",
            "più\n",
            "dopo\n",
            "l'\n",
            "del\n",
            "Per\n",
            "è\n",
            "un\n",
            "a\n",
            "milioni\n",
            "più\n",
            "con\n",
            "una\n",
            "di\n",
            "milioni\n",
            "che\n",
            "lo\n",
            "sul\n"
          ]
        }
      ]
    },
    {
      "cell_type": "markdown",
      "source": [
        "# Funzione che ritorna una stringa filtrata da punteggiatura e stopwords"
      ],
      "metadata": {
        "id": "wFTUm-86Vv8L"
      }
    },
    {
      "cell_type": "code",
      "source": [
        "#QUESTA FUNZIONE RIMUOVE L'APOSTROFO E LA LETTERA CHE LO PRECEDE\n",
        "\n",
        "# def remove_before_apostrophe(sentence):\n",
        "#     words = sentence.split()\n",
        "#     new_sentence = \"\"\n",
        "#     for word in words:\n",
        "#         if \"'\" in word:\n",
        "#             new_sentence += \" '\" + word.split(\"'\")[1]\n",
        "#         else:\n",
        "#             new_sentence += \" \" + word\n",
        "#     return new_sentence"
      ],
      "metadata": {
        "id": "0Kdn88w6rRcW"
      },
      "execution_count": 29,
      "outputs": []
    },
    {
      "cell_type": "code",
      "source": [
        "def preprocess(text):\n",
        "\n",
        "  doc = nlp(text)\n",
        "  no_stop_words = [token.text for token in doc if not token.is_stop]\n",
        "  no_stop_words=str(no_stop_words)\n",
        "  text_filt = no_stop_words.translate(str.maketrans('', '', string.punctuation))\n",
        "  text_filt = text_filt.strip() #rimuove spazio iniziale e finale\n",
        "  text_filt=re.sub(' +', ' ', text_filt)\n",
        "  return text_filt        \n",
        "\n",
        "print(preprocess(text))"
      ],
      "metadata": {
        "id": "fprolSK4QWuY",
        "colab": {
          "base_uri": "https://localhost:8080/"
        },
        "outputId": "e0fd11ce-6138-453b-f98e-92bd7d421b9b"
      },
      "execution_count": 52,
      "outputs": [
        {
          "output_type": "stream",
          "name": "stdout",
          "text": [
            "affare Roma Galatasaray arrivato battute finali club giallorosso autorizzato giocatore partire Turchia sistemare ultimissimi dettagli Zaniolo pronto quadriennale 35 netti stagione clausola rescissoria 35 Nicolò Zaniolo Galatasaray Roma autorizzato giocatore raggiungere Istanbul dando libera partenza definire ultimissimi dettagli i contatti avviati Roma club turco affare arrivato terremoto devastato confine Turchia Siria rallentato trattativa parti rimaste contatto notte lunedì martedì giungere intesa totale sistemate questioni contrattuali pomeriggio martedì 7 febbraio Roma dato libera partenza Zaniolo Turchia Galatasaray battuto concorrenza offrendo 15 7 bonus Roma contava strappare 23 inserimento Fenerbahce Zaniolo pronto quadriennale 35 netti bonus clausola rescissoria 35 rende appetibile mercato\n"
          ]
        }
      ]
    },
    {
      "cell_type": "markdown",
      "source": [
        "#Esercizio Stem/Lem#"
      ],
      "metadata": {
        "id": "74baTtBlWSQt"
      }
    },
    {
      "cell_type": "code",
      "source": [
        "from nltk.stem import SnowballStemmer\n",
        "stemmer_snowball = SnowballStemmer('italian')\n",
        "\n",
        "stemmed = preprocessed_text.split(\" \")\n",
        "print(stemmed)\n",
        "\n",
        "for word in stemmed:\n",
        "    print(word, \"|\", stemmer_snowball.stem(word))"
      ],
      "metadata": {
        "id": "tIR64sv7Wgz9"
      },
      "execution_count": null,
      "outputs": []
    },
    {
      "cell_type": "code",
      "source": [
        "doc = nlp(preprocessed_text)\n",
        "for token in doc:\n",
        "    print(token, \" | \", token.lemma_)"
      ],
      "metadata": {
        "id": "etcuUElkd05p"
      },
      "execution_count": null,
      "outputs": []
    }
  ]
}